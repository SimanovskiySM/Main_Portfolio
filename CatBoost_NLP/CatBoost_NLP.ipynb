{
  "nbformat": 4,
  "nbformat_minor": 0,
  "metadata": {
    "colab": {
      "provenance": [],
      "gpuType": "T4",
      "toc_visible": true
    },
    "kernelspec": {
      "name": "python3",
      "display_name": "Python 3"
    },
    "language_info": {
      "name": "python"
    },
    "accelerator": "GPU"
  },
  "cells": [
    {
      "cell_type": "markdown",
      "source": [
        "# Быстрая классификация твитов с помощью CatBoost. Описание проекта.\n",
        "\n",
        "Ссылка на Kaggle: https://www.kaggle.com/datasets/aunanya875/suicidal-tweet-detection-dataset\n",
        "\n",
        "Рассматриваемый датасет содержит твиты пользователей, часть из которых можно охарактеризовать как относящиеся к теме суицида, а часть нет. Правильная и оперативная классификация сообщений может помочь как во время оказать нуждающемуся психологическую помощь, так и защитить детей от от вредоносной информации, распространяемой злоумышленниками.\n",
        "\n",
        "За этот проект я взялся для оценки возможностей CatBoost работать с текстом. Качество моделей будет оцениваться с помощью метрики F1.\n"
      ],
      "metadata": {
        "id": "cn_mxL-t1Msf"
      }
    },
    {
      "cell_type": "markdown",
      "source": [
        "# Загрузка данных."
      ],
      "metadata": {
        "id": "fcGPedIo2FCp"
      }
    },
    {
      "cell_type": "markdown",
      "source": [
        "Загружаем необходимые библоитеки."
      ],
      "metadata": {
        "id": "mZyCfjy11MfZ"
      }
    },
    {
      "cell_type": "code",
      "execution_count": 1,
      "metadata": {
        "colab": {
          "base_uri": "https://localhost:8080/"
        },
        "id": "dGqYhnt7hXBt",
        "outputId": "60eea5b7-7997-4dca-8855-f55925115656"
      },
      "outputs": [
        {
          "output_type": "stream",
          "name": "stderr",
          "text": [
            "[nltk_data] Downloading package averaged_perceptron_tagger to\n",
            "[nltk_data]     /root/nltk_data...\n",
            "[nltk_data]   Unzipping taggers/averaged_perceptron_tagger.zip.\n",
            "[nltk_data] Downloading package punkt to /root/nltk_data...\n",
            "[nltk_data]   Unzipping tokenizers/punkt.zip.\n",
            "[nltk_data] Downloading package wordnet to /root/nltk_data...\n",
            "[nltk_data] Downloading package stopwords to /root/nltk_data...\n",
            "[nltk_data]   Unzipping corpora/stopwords.zip.\n"
          ]
        },
        {
          "output_type": "stream",
          "name": "stdout",
          "text": [
            "Collecting catboost\n",
            "  Downloading catboost-1.2.2-cp310-cp310-manylinux2014_x86_64.whl (98.7 MB)\n",
            "\u001b[2K     \u001b[90m━━━━━━━━━━━━━━━━━━━━━━━━━━━━━━━━━━━━━━━━\u001b[0m \u001b[32m98.7/98.7 MB\u001b[0m \u001b[31m8.9 MB/s\u001b[0m eta \u001b[36m0:00:00\u001b[0m\n",
            "\u001b[?25hRequirement already satisfied: graphviz in /usr/local/lib/python3.10/dist-packages (from catboost) (0.20.1)\n",
            "Requirement already satisfied: matplotlib in /usr/local/lib/python3.10/dist-packages (from catboost) (3.7.1)\n",
            "Requirement already satisfied: numpy>=1.16.0 in /usr/local/lib/python3.10/dist-packages (from catboost) (1.23.5)\n",
            "Requirement already satisfied: pandas>=0.24 in /usr/local/lib/python3.10/dist-packages (from catboost) (1.5.3)\n",
            "Requirement already satisfied: scipy in /usr/local/lib/python3.10/dist-packages (from catboost) (1.11.4)\n",
            "Requirement already satisfied: plotly in /usr/local/lib/python3.10/dist-packages (from catboost) (5.15.0)\n",
            "Requirement already satisfied: six in /usr/local/lib/python3.10/dist-packages (from catboost) (1.16.0)\n",
            "Requirement already satisfied: python-dateutil>=2.8.1 in /usr/local/lib/python3.10/dist-packages (from pandas>=0.24->catboost) (2.8.2)\n",
            "Requirement already satisfied: pytz>=2020.1 in /usr/local/lib/python3.10/dist-packages (from pandas>=0.24->catboost) (2023.3.post1)\n",
            "Requirement already satisfied: contourpy>=1.0.1 in /usr/local/lib/python3.10/dist-packages (from matplotlib->catboost) (1.2.0)\n",
            "Requirement already satisfied: cycler>=0.10 in /usr/local/lib/python3.10/dist-packages (from matplotlib->catboost) (0.12.1)\n",
            "Requirement already satisfied: fonttools>=4.22.0 in /usr/local/lib/python3.10/dist-packages (from matplotlib->catboost) (4.46.0)\n",
            "Requirement already satisfied: kiwisolver>=1.0.1 in /usr/local/lib/python3.10/dist-packages (from matplotlib->catboost) (1.4.5)\n",
            "Requirement already satisfied: packaging>=20.0 in /usr/local/lib/python3.10/dist-packages (from matplotlib->catboost) (23.2)\n",
            "Requirement already satisfied: pillow>=6.2.0 in /usr/local/lib/python3.10/dist-packages (from matplotlib->catboost) (9.4.0)\n",
            "Requirement already satisfied: pyparsing>=2.3.1 in /usr/local/lib/python3.10/dist-packages (from matplotlib->catboost) (3.1.1)\n",
            "Requirement already satisfied: tenacity>=6.2.0 in /usr/local/lib/python3.10/dist-packages (from plotly->catboost) (8.2.3)\n",
            "Installing collected packages: catboost\n",
            "Successfully installed catboost-1.2.2\n"
          ]
        }
      ],
      "source": [
        "import pandas as pd\n",
        "import seaborn as sns\n",
        "import matplotlib.pyplot as plt\n",
        "import numpy as np\n",
        "from sklearn.model_selection import train_test_split\n",
        "from sklearn.metrics import f1_score, confusion_matrix\n",
        "from sklearn.feature_extraction.text import (\n",
        "    TfidfVectorizer,\n",
        "    CountVectorizer,\n",
        "    TfidfTransformer,\n",
        ")\n",
        "from tqdm import tqdm\n",
        "import nltk\n",
        "from nltk.tokenize import word_tokenize\n",
        "from nltk.corpus import wordnet, stopwords\n",
        "from nltk.stem import WordNetLemmatizer\n",
        "nltk.download('averaged_perceptron_tagger')\n",
        "nltk.download('punkt')\n",
        "nltk.download('wordnet')\n",
        "nltk.download('stopwords')\n",
        "import re\n",
        "\n",
        "!pip install catboost\n",
        "from catboost import CatBoostClassifier, Pool, cv"
      ]
    },
    {
      "cell_type": "markdown",
      "source": [
        "Фиксируем значение для Random State."
      ],
      "metadata": {
        "id": "xQ_dFrrq1QLQ"
      }
    },
    {
      "cell_type": "code",
      "source": [
        "RND_STATE = 42"
      ],
      "metadata": {
        "id": "bYRhrjFdhbKH"
      },
      "execution_count": 2,
      "outputs": []
    },
    {
      "cell_type": "markdown",
      "source": [
        "Загружаем данные."
      ],
      "metadata": {
        "id": "R46qpu-M1TZN"
      }
    },
    {
      "cell_type": "code",
      "source": [
        "df = pd.read_csv(\n",
        "    \"/content/drive/MyDrive/Colab Notebooks/Datasets/Suicide_Ideation_Dataset(Twitter-based).csv\",\n",
        "    sep=\",\",\n",
        ")"
      ],
      "metadata": {
        "id": "ZyJRQJe5heQa"
      },
      "execution_count": 3,
      "outputs": []
    },
    {
      "cell_type": "markdown",
      "source": [
        "Смотрим информацию о них."
      ],
      "metadata": {
        "id": "TdpfpMil1XN7"
      }
    },
    {
      "cell_type": "code",
      "source": [
        "df.info()"
      ],
      "metadata": {
        "colab": {
          "base_uri": "https://localhost:8080/"
        },
        "id": "R7Gd8REkiCbC",
        "outputId": "ea557050-2e9d-4c36-ba8e-6b784a7a61c1"
      },
      "execution_count": 4,
      "outputs": [
        {
          "output_type": "stream",
          "name": "stdout",
          "text": [
            "<class 'pandas.core.frame.DataFrame'>\n",
            "RangeIndex: 1787 entries, 0 to 1786\n",
            "Data columns (total 2 columns):\n",
            " #   Column   Non-Null Count  Dtype \n",
            "---  ------   --------------  ----- \n",
            " 0   Tweet    1785 non-null   object\n",
            " 1   Suicide  1787 non-null   object\n",
            "dtypes: object(2)\n",
            "memory usage: 28.0+ KB\n"
          ]
        }
      ]
    },
    {
      "cell_type": "code",
      "source": [
        "df.sample(10)"
      ],
      "metadata": {
        "colab": {
          "base_uri": "https://localhost:8080/",
          "height": 363
        },
        "id": "GY1G4bvOiGvy",
        "outputId": "fb1226c1-34a7-47da-bcef-e91492d38bbc"
      },
      "execution_count": 5,
      "outputs": [
        {
          "output_type": "execute_result",
          "data": {
            "text/plain": [
              "                                                  Tweet  \\\n",
              "1013  @nomadicmatt i'd like to be linked on your sit...   \n",
              "802   At the end of the day Iâm at this point in m...   \n",
              "1261  @joniconix Ah, you refer to the tabloid not le...   \n",
              "1769  @jhaebets Nah, AUS PC is more salesy (best lef...   \n",
              "1254  RT @PrincessSGB: I'm pleased to announce that ...   \n",
              "1217  I will have a stan chart card not because i wa...   \n",
              "1220  â¡sigh i hate this i hardly get time to mysel...   \n",
              "1493  @janniesTWbox But the dip keeps following me! ...   \n",
              "624   Havenât watched WWE since Extreme Rules. I w...   \n",
              "1248  Busy times at Elstree Studios. New arrivals in...   \n",
              "\n",
              "                      Suicide  \n",
              "1013         Not Suicide post  \n",
              "802   Potential Suicide post   \n",
              "1261         Not Suicide post  \n",
              "1769         Not Suicide post  \n",
              "1254         Not Suicide post  \n",
              "1217         Not Suicide post  \n",
              "1220  Potential Suicide post   \n",
              "1493         Not Suicide post  \n",
              "624   Potential Suicide post   \n",
              "1248         Not Suicide post  "
            ],
            "text/html": [
              "\n",
              "  <div id=\"df-aa3cb72e-2b7f-47db-a691-1153e8f29a1c\" class=\"colab-df-container\">\n",
              "    <div>\n",
              "<style scoped>\n",
              "    .dataframe tbody tr th:only-of-type {\n",
              "        vertical-align: middle;\n",
              "    }\n",
              "\n",
              "    .dataframe tbody tr th {\n",
              "        vertical-align: top;\n",
              "    }\n",
              "\n",
              "    .dataframe thead th {\n",
              "        text-align: right;\n",
              "    }\n",
              "</style>\n",
              "<table border=\"1\" class=\"dataframe\">\n",
              "  <thead>\n",
              "    <tr style=\"text-align: right;\">\n",
              "      <th></th>\n",
              "      <th>Tweet</th>\n",
              "      <th>Suicide</th>\n",
              "    </tr>\n",
              "  </thead>\n",
              "  <tbody>\n",
              "    <tr>\n",
              "      <th>1013</th>\n",
              "      <td>@nomadicmatt i'd like to be linked on your sit...</td>\n",
              "      <td>Not Suicide post</td>\n",
              "    </tr>\n",
              "    <tr>\n",
              "      <th>802</th>\n",
              "      <td>At the end of the day Iâm at this point in m...</td>\n",
              "      <td>Potential Suicide post</td>\n",
              "    </tr>\n",
              "    <tr>\n",
              "      <th>1261</th>\n",
              "      <td>@joniconix Ah, you refer to the tabloid not le...</td>\n",
              "      <td>Not Suicide post</td>\n",
              "    </tr>\n",
              "    <tr>\n",
              "      <th>1769</th>\n",
              "      <td>@jhaebets Nah, AUS PC is more salesy (best lef...</td>\n",
              "      <td>Not Suicide post</td>\n",
              "    </tr>\n",
              "    <tr>\n",
              "      <th>1254</th>\n",
              "      <td>RT @PrincessSGB: I'm pleased to announce that ...</td>\n",
              "      <td>Not Suicide post</td>\n",
              "    </tr>\n",
              "    <tr>\n",
              "      <th>1217</th>\n",
              "      <td>I will have a stan chart card not because i wa...</td>\n",
              "      <td>Not Suicide post</td>\n",
              "    </tr>\n",
              "    <tr>\n",
              "      <th>1220</th>\n",
              "      <td>â¡sigh i hate this i hardly get time to mysel...</td>\n",
              "      <td>Potential Suicide post</td>\n",
              "    </tr>\n",
              "    <tr>\n",
              "      <th>1493</th>\n",
              "      <td>@janniesTWbox But the dip keeps following me! ...</td>\n",
              "      <td>Not Suicide post</td>\n",
              "    </tr>\n",
              "    <tr>\n",
              "      <th>624</th>\n",
              "      <td>Havenât watched WWE since Extreme Rules. I w...</td>\n",
              "      <td>Potential Suicide post</td>\n",
              "    </tr>\n",
              "    <tr>\n",
              "      <th>1248</th>\n",
              "      <td>Busy times at Elstree Studios. New arrivals in...</td>\n",
              "      <td>Not Suicide post</td>\n",
              "    </tr>\n",
              "  </tbody>\n",
              "</table>\n",
              "</div>\n",
              "    <div class=\"colab-df-buttons\">\n",
              "\n",
              "  <div class=\"colab-df-container\">\n",
              "    <button class=\"colab-df-convert\" onclick=\"convertToInteractive('df-aa3cb72e-2b7f-47db-a691-1153e8f29a1c')\"\n",
              "            title=\"Convert this dataframe to an interactive table.\"\n",
              "            style=\"display:none;\">\n",
              "\n",
              "  <svg xmlns=\"http://www.w3.org/2000/svg\" height=\"24px\" viewBox=\"0 -960 960 960\">\n",
              "    <path d=\"M120-120v-720h720v720H120Zm60-500h600v-160H180v160Zm220 220h160v-160H400v160Zm0 220h160v-160H400v160ZM180-400h160v-160H180v160Zm440 0h160v-160H620v160ZM180-180h160v-160H180v160Zm440 0h160v-160H620v160Z\"/>\n",
              "  </svg>\n",
              "    </button>\n",
              "\n",
              "  <style>\n",
              "    .colab-df-container {\n",
              "      display:flex;\n",
              "      gap: 12px;\n",
              "    }\n",
              "\n",
              "    .colab-df-convert {\n",
              "      background-color: #E8F0FE;\n",
              "      border: none;\n",
              "      border-radius: 50%;\n",
              "      cursor: pointer;\n",
              "      display: none;\n",
              "      fill: #1967D2;\n",
              "      height: 32px;\n",
              "      padding: 0 0 0 0;\n",
              "      width: 32px;\n",
              "    }\n",
              "\n",
              "    .colab-df-convert:hover {\n",
              "      background-color: #E2EBFA;\n",
              "      box-shadow: 0px 1px 2px rgba(60, 64, 67, 0.3), 0px 1px 3px 1px rgba(60, 64, 67, 0.15);\n",
              "      fill: #174EA6;\n",
              "    }\n",
              "\n",
              "    .colab-df-buttons div {\n",
              "      margin-bottom: 4px;\n",
              "    }\n",
              "\n",
              "    [theme=dark] .colab-df-convert {\n",
              "      background-color: #3B4455;\n",
              "      fill: #D2E3FC;\n",
              "    }\n",
              "\n",
              "    [theme=dark] .colab-df-convert:hover {\n",
              "      background-color: #434B5C;\n",
              "      box-shadow: 0px 1px 3px 1px rgba(0, 0, 0, 0.15);\n",
              "      filter: drop-shadow(0px 1px 2px rgba(0, 0, 0, 0.3));\n",
              "      fill: #FFFFFF;\n",
              "    }\n",
              "  </style>\n",
              "\n",
              "    <script>\n",
              "      const buttonEl =\n",
              "        document.querySelector('#df-aa3cb72e-2b7f-47db-a691-1153e8f29a1c button.colab-df-convert');\n",
              "      buttonEl.style.display =\n",
              "        google.colab.kernel.accessAllowed ? 'block' : 'none';\n",
              "\n",
              "      async function convertToInteractive(key) {\n",
              "        const element = document.querySelector('#df-aa3cb72e-2b7f-47db-a691-1153e8f29a1c');\n",
              "        const dataTable =\n",
              "          await google.colab.kernel.invokeFunction('convertToInteractive',\n",
              "                                                    [key], {});\n",
              "        if (!dataTable) return;\n",
              "\n",
              "        const docLinkHtml = 'Like what you see? Visit the ' +\n",
              "          '<a target=\"_blank\" href=https://colab.research.google.com/notebooks/data_table.ipynb>data table notebook</a>'\n",
              "          + ' to learn more about interactive tables.';\n",
              "        element.innerHTML = '';\n",
              "        dataTable['output_type'] = 'display_data';\n",
              "        await google.colab.output.renderOutput(dataTable, element);\n",
              "        const docLink = document.createElement('div');\n",
              "        docLink.innerHTML = docLinkHtml;\n",
              "        element.appendChild(docLink);\n",
              "      }\n",
              "    </script>\n",
              "  </div>\n",
              "\n",
              "\n",
              "<div id=\"df-4af9bb5d-ae31-4956-a725-16ff8431a2ca\">\n",
              "  <button class=\"colab-df-quickchart\" onclick=\"quickchart('df-4af9bb5d-ae31-4956-a725-16ff8431a2ca')\"\n",
              "            title=\"Suggest charts\"\n",
              "            style=\"display:none;\">\n",
              "\n",
              "<svg xmlns=\"http://www.w3.org/2000/svg\" height=\"24px\"viewBox=\"0 0 24 24\"\n",
              "     width=\"24px\">\n",
              "    <g>\n",
              "        <path d=\"M19 3H5c-1.1 0-2 .9-2 2v14c0 1.1.9 2 2 2h14c1.1 0 2-.9 2-2V5c0-1.1-.9-2-2-2zM9 17H7v-7h2v7zm4 0h-2V7h2v10zm4 0h-2v-4h2v4z\"/>\n",
              "    </g>\n",
              "</svg>\n",
              "  </button>\n",
              "\n",
              "<style>\n",
              "  .colab-df-quickchart {\n",
              "      --bg-color: #E8F0FE;\n",
              "      --fill-color: #1967D2;\n",
              "      --hover-bg-color: #E2EBFA;\n",
              "      --hover-fill-color: #174EA6;\n",
              "      --disabled-fill-color: #AAA;\n",
              "      --disabled-bg-color: #DDD;\n",
              "  }\n",
              "\n",
              "  [theme=dark] .colab-df-quickchart {\n",
              "      --bg-color: #3B4455;\n",
              "      --fill-color: #D2E3FC;\n",
              "      --hover-bg-color: #434B5C;\n",
              "      --hover-fill-color: #FFFFFF;\n",
              "      --disabled-bg-color: #3B4455;\n",
              "      --disabled-fill-color: #666;\n",
              "  }\n",
              "\n",
              "  .colab-df-quickchart {\n",
              "    background-color: var(--bg-color);\n",
              "    border: none;\n",
              "    border-radius: 50%;\n",
              "    cursor: pointer;\n",
              "    display: none;\n",
              "    fill: var(--fill-color);\n",
              "    height: 32px;\n",
              "    padding: 0;\n",
              "    width: 32px;\n",
              "  }\n",
              "\n",
              "  .colab-df-quickchart:hover {\n",
              "    background-color: var(--hover-bg-color);\n",
              "    box-shadow: 0 1px 2px rgba(60, 64, 67, 0.3), 0 1px 3px 1px rgba(60, 64, 67, 0.15);\n",
              "    fill: var(--button-hover-fill-color);\n",
              "  }\n",
              "\n",
              "  .colab-df-quickchart-complete:disabled,\n",
              "  .colab-df-quickchart-complete:disabled:hover {\n",
              "    background-color: var(--disabled-bg-color);\n",
              "    fill: var(--disabled-fill-color);\n",
              "    box-shadow: none;\n",
              "  }\n",
              "\n",
              "  .colab-df-spinner {\n",
              "    border: 2px solid var(--fill-color);\n",
              "    border-color: transparent;\n",
              "    border-bottom-color: var(--fill-color);\n",
              "    animation:\n",
              "      spin 1s steps(1) infinite;\n",
              "  }\n",
              "\n",
              "  @keyframes spin {\n",
              "    0% {\n",
              "      border-color: transparent;\n",
              "      border-bottom-color: var(--fill-color);\n",
              "      border-left-color: var(--fill-color);\n",
              "    }\n",
              "    20% {\n",
              "      border-color: transparent;\n",
              "      border-left-color: var(--fill-color);\n",
              "      border-top-color: var(--fill-color);\n",
              "    }\n",
              "    30% {\n",
              "      border-color: transparent;\n",
              "      border-left-color: var(--fill-color);\n",
              "      border-top-color: var(--fill-color);\n",
              "      border-right-color: var(--fill-color);\n",
              "    }\n",
              "    40% {\n",
              "      border-color: transparent;\n",
              "      border-right-color: var(--fill-color);\n",
              "      border-top-color: var(--fill-color);\n",
              "    }\n",
              "    60% {\n",
              "      border-color: transparent;\n",
              "      border-right-color: var(--fill-color);\n",
              "    }\n",
              "    80% {\n",
              "      border-color: transparent;\n",
              "      border-right-color: var(--fill-color);\n",
              "      border-bottom-color: var(--fill-color);\n",
              "    }\n",
              "    90% {\n",
              "      border-color: transparent;\n",
              "      border-bottom-color: var(--fill-color);\n",
              "    }\n",
              "  }\n",
              "</style>\n",
              "\n",
              "  <script>\n",
              "    async function quickchart(key) {\n",
              "      const quickchartButtonEl =\n",
              "        document.querySelector('#' + key + ' button');\n",
              "      quickchartButtonEl.disabled = true;  // To prevent multiple clicks.\n",
              "      quickchartButtonEl.classList.add('colab-df-spinner');\n",
              "      try {\n",
              "        const charts = await google.colab.kernel.invokeFunction(\n",
              "            'suggestCharts', [key], {});\n",
              "      } catch (error) {\n",
              "        console.error('Error during call to suggestCharts:', error);\n",
              "      }\n",
              "      quickchartButtonEl.classList.remove('colab-df-spinner');\n",
              "      quickchartButtonEl.classList.add('colab-df-quickchart-complete');\n",
              "    }\n",
              "    (() => {\n",
              "      let quickchartButtonEl =\n",
              "        document.querySelector('#df-4af9bb5d-ae31-4956-a725-16ff8431a2ca button');\n",
              "      quickchartButtonEl.style.display =\n",
              "        google.colab.kernel.accessAllowed ? 'block' : 'none';\n",
              "    })();\n",
              "  </script>\n",
              "</div>\n",
              "    </div>\n",
              "  </div>\n"
            ]
          },
          "metadata": {},
          "execution_count": 5
        }
      ]
    },
    {
      "cell_type": "markdown",
      "source": [
        "Смотрим пропуски в столбце с твитами."
      ],
      "metadata": {
        "id": "URG4CK6j1rs7"
      }
    },
    {
      "cell_type": "code",
      "source": [
        "rows_with_missing_tweet = df[df['Tweet'].isnull()]\n",
        "rows_with_missing_tweet"
      ],
      "metadata": {
        "colab": {
          "base_uri": "https://localhost:8080/",
          "height": 112
        },
        "id": "iroO1kUxkJLu",
        "outputId": "b1575a9a-3d56-4803-9691-d138b2ed5bee"
      },
      "execution_count": 6,
      "outputs": [
        {
          "output_type": "execute_result",
          "data": {
            "text/plain": [
              "     Tweet                  Suicide\n",
              "497    NaN  Potential Suicide post \n",
              "1017   NaN         Not Suicide post"
            ],
            "text/html": [
              "\n",
              "  <div id=\"df-be63f28f-da1c-4711-baad-94a1a0465095\" class=\"colab-df-container\">\n",
              "    <div>\n",
              "<style scoped>\n",
              "    .dataframe tbody tr th:only-of-type {\n",
              "        vertical-align: middle;\n",
              "    }\n",
              "\n",
              "    .dataframe tbody tr th {\n",
              "        vertical-align: top;\n",
              "    }\n",
              "\n",
              "    .dataframe thead th {\n",
              "        text-align: right;\n",
              "    }\n",
              "</style>\n",
              "<table border=\"1\" class=\"dataframe\">\n",
              "  <thead>\n",
              "    <tr style=\"text-align: right;\">\n",
              "      <th></th>\n",
              "      <th>Tweet</th>\n",
              "      <th>Suicide</th>\n",
              "    </tr>\n",
              "  </thead>\n",
              "  <tbody>\n",
              "    <tr>\n",
              "      <th>497</th>\n",
              "      <td>NaN</td>\n",
              "      <td>Potential Suicide post</td>\n",
              "    </tr>\n",
              "    <tr>\n",
              "      <th>1017</th>\n",
              "      <td>NaN</td>\n",
              "      <td>Not Suicide post</td>\n",
              "    </tr>\n",
              "  </tbody>\n",
              "</table>\n",
              "</div>\n",
              "    <div class=\"colab-df-buttons\">\n",
              "\n",
              "  <div class=\"colab-df-container\">\n",
              "    <button class=\"colab-df-convert\" onclick=\"convertToInteractive('df-be63f28f-da1c-4711-baad-94a1a0465095')\"\n",
              "            title=\"Convert this dataframe to an interactive table.\"\n",
              "            style=\"display:none;\">\n",
              "\n",
              "  <svg xmlns=\"http://www.w3.org/2000/svg\" height=\"24px\" viewBox=\"0 -960 960 960\">\n",
              "    <path d=\"M120-120v-720h720v720H120Zm60-500h600v-160H180v160Zm220 220h160v-160H400v160Zm0 220h160v-160H400v160ZM180-400h160v-160H180v160Zm440 0h160v-160H620v160ZM180-180h160v-160H180v160Zm440 0h160v-160H620v160Z\"/>\n",
              "  </svg>\n",
              "    </button>\n",
              "\n",
              "  <style>\n",
              "    .colab-df-container {\n",
              "      display:flex;\n",
              "      gap: 12px;\n",
              "    }\n",
              "\n",
              "    .colab-df-convert {\n",
              "      background-color: #E8F0FE;\n",
              "      border: none;\n",
              "      border-radius: 50%;\n",
              "      cursor: pointer;\n",
              "      display: none;\n",
              "      fill: #1967D2;\n",
              "      height: 32px;\n",
              "      padding: 0 0 0 0;\n",
              "      width: 32px;\n",
              "    }\n",
              "\n",
              "    .colab-df-convert:hover {\n",
              "      background-color: #E2EBFA;\n",
              "      box-shadow: 0px 1px 2px rgba(60, 64, 67, 0.3), 0px 1px 3px 1px rgba(60, 64, 67, 0.15);\n",
              "      fill: #174EA6;\n",
              "    }\n",
              "\n",
              "    .colab-df-buttons div {\n",
              "      margin-bottom: 4px;\n",
              "    }\n",
              "\n",
              "    [theme=dark] .colab-df-convert {\n",
              "      background-color: #3B4455;\n",
              "      fill: #D2E3FC;\n",
              "    }\n",
              "\n",
              "    [theme=dark] .colab-df-convert:hover {\n",
              "      background-color: #434B5C;\n",
              "      box-shadow: 0px 1px 3px 1px rgba(0, 0, 0, 0.15);\n",
              "      filter: drop-shadow(0px 1px 2px rgba(0, 0, 0, 0.3));\n",
              "      fill: #FFFFFF;\n",
              "    }\n",
              "  </style>\n",
              "\n",
              "    <script>\n",
              "      const buttonEl =\n",
              "        document.querySelector('#df-be63f28f-da1c-4711-baad-94a1a0465095 button.colab-df-convert');\n",
              "      buttonEl.style.display =\n",
              "        google.colab.kernel.accessAllowed ? 'block' : 'none';\n",
              "\n",
              "      async function convertToInteractive(key) {\n",
              "        const element = document.querySelector('#df-be63f28f-da1c-4711-baad-94a1a0465095');\n",
              "        const dataTable =\n",
              "          await google.colab.kernel.invokeFunction('convertToInteractive',\n",
              "                                                    [key], {});\n",
              "        if (!dataTable) return;\n",
              "\n",
              "        const docLinkHtml = 'Like what you see? Visit the ' +\n",
              "          '<a target=\"_blank\" href=https://colab.research.google.com/notebooks/data_table.ipynb>data table notebook</a>'\n",
              "          + ' to learn more about interactive tables.';\n",
              "        element.innerHTML = '';\n",
              "        dataTable['output_type'] = 'display_data';\n",
              "        await google.colab.output.renderOutput(dataTable, element);\n",
              "        const docLink = document.createElement('div');\n",
              "        docLink.innerHTML = docLinkHtml;\n",
              "        element.appendChild(docLink);\n",
              "      }\n",
              "    </script>\n",
              "  </div>\n",
              "\n",
              "\n",
              "<div id=\"df-f0c3eecb-cf0c-49ea-9702-c02961133af7\">\n",
              "  <button class=\"colab-df-quickchart\" onclick=\"quickchart('df-f0c3eecb-cf0c-49ea-9702-c02961133af7')\"\n",
              "            title=\"Suggest charts\"\n",
              "            style=\"display:none;\">\n",
              "\n",
              "<svg xmlns=\"http://www.w3.org/2000/svg\" height=\"24px\"viewBox=\"0 0 24 24\"\n",
              "     width=\"24px\">\n",
              "    <g>\n",
              "        <path d=\"M19 3H5c-1.1 0-2 .9-2 2v14c0 1.1.9 2 2 2h14c1.1 0 2-.9 2-2V5c0-1.1-.9-2-2-2zM9 17H7v-7h2v7zm4 0h-2V7h2v10zm4 0h-2v-4h2v4z\"/>\n",
              "    </g>\n",
              "</svg>\n",
              "  </button>\n",
              "\n",
              "<style>\n",
              "  .colab-df-quickchart {\n",
              "      --bg-color: #E8F0FE;\n",
              "      --fill-color: #1967D2;\n",
              "      --hover-bg-color: #E2EBFA;\n",
              "      --hover-fill-color: #174EA6;\n",
              "      --disabled-fill-color: #AAA;\n",
              "      --disabled-bg-color: #DDD;\n",
              "  }\n",
              "\n",
              "  [theme=dark] .colab-df-quickchart {\n",
              "      --bg-color: #3B4455;\n",
              "      --fill-color: #D2E3FC;\n",
              "      --hover-bg-color: #434B5C;\n",
              "      --hover-fill-color: #FFFFFF;\n",
              "      --disabled-bg-color: #3B4455;\n",
              "      --disabled-fill-color: #666;\n",
              "  }\n",
              "\n",
              "  .colab-df-quickchart {\n",
              "    background-color: var(--bg-color);\n",
              "    border: none;\n",
              "    border-radius: 50%;\n",
              "    cursor: pointer;\n",
              "    display: none;\n",
              "    fill: var(--fill-color);\n",
              "    height: 32px;\n",
              "    padding: 0;\n",
              "    width: 32px;\n",
              "  }\n",
              "\n",
              "  .colab-df-quickchart:hover {\n",
              "    background-color: var(--hover-bg-color);\n",
              "    box-shadow: 0 1px 2px rgba(60, 64, 67, 0.3), 0 1px 3px 1px rgba(60, 64, 67, 0.15);\n",
              "    fill: var(--button-hover-fill-color);\n",
              "  }\n",
              "\n",
              "  .colab-df-quickchart-complete:disabled,\n",
              "  .colab-df-quickchart-complete:disabled:hover {\n",
              "    background-color: var(--disabled-bg-color);\n",
              "    fill: var(--disabled-fill-color);\n",
              "    box-shadow: none;\n",
              "  }\n",
              "\n",
              "  .colab-df-spinner {\n",
              "    border: 2px solid var(--fill-color);\n",
              "    border-color: transparent;\n",
              "    border-bottom-color: var(--fill-color);\n",
              "    animation:\n",
              "      spin 1s steps(1) infinite;\n",
              "  }\n",
              "\n",
              "  @keyframes spin {\n",
              "    0% {\n",
              "      border-color: transparent;\n",
              "      border-bottom-color: var(--fill-color);\n",
              "      border-left-color: var(--fill-color);\n",
              "    }\n",
              "    20% {\n",
              "      border-color: transparent;\n",
              "      border-left-color: var(--fill-color);\n",
              "      border-top-color: var(--fill-color);\n",
              "    }\n",
              "    30% {\n",
              "      border-color: transparent;\n",
              "      border-left-color: var(--fill-color);\n",
              "      border-top-color: var(--fill-color);\n",
              "      border-right-color: var(--fill-color);\n",
              "    }\n",
              "    40% {\n",
              "      border-color: transparent;\n",
              "      border-right-color: var(--fill-color);\n",
              "      border-top-color: var(--fill-color);\n",
              "    }\n",
              "    60% {\n",
              "      border-color: transparent;\n",
              "      border-right-color: var(--fill-color);\n",
              "    }\n",
              "    80% {\n",
              "      border-color: transparent;\n",
              "      border-right-color: var(--fill-color);\n",
              "      border-bottom-color: var(--fill-color);\n",
              "    }\n",
              "    90% {\n",
              "      border-color: transparent;\n",
              "      border-bottom-color: var(--fill-color);\n",
              "    }\n",
              "  }\n",
              "</style>\n",
              "\n",
              "  <script>\n",
              "    async function quickchart(key) {\n",
              "      const quickchartButtonEl =\n",
              "        document.querySelector('#' + key + ' button');\n",
              "      quickchartButtonEl.disabled = true;  // To prevent multiple clicks.\n",
              "      quickchartButtonEl.classList.add('colab-df-spinner');\n",
              "      try {\n",
              "        const charts = await google.colab.kernel.invokeFunction(\n",
              "            'suggestCharts', [key], {});\n",
              "      } catch (error) {\n",
              "        console.error('Error during call to suggestCharts:', error);\n",
              "      }\n",
              "      quickchartButtonEl.classList.remove('colab-df-spinner');\n",
              "      quickchartButtonEl.classList.add('colab-df-quickchart-complete');\n",
              "    }\n",
              "    (() => {\n",
              "      let quickchartButtonEl =\n",
              "        document.querySelector('#df-f0c3eecb-cf0c-49ea-9702-c02961133af7 button');\n",
              "      quickchartButtonEl.style.display =\n",
              "        google.colab.kernel.accessAllowed ? 'block' : 'none';\n",
              "    })();\n",
              "  </script>\n",
              "</div>\n",
              "    </div>\n",
              "  </div>\n"
            ]
          },
          "metadata": {},
          "execution_count": 6
        }
      ]
    },
    {
      "cell_type": "markdown",
      "source": [
        "Удаляем их."
      ],
      "metadata": {
        "id": "_INWvKMw1vXB"
      }
    },
    {
      "cell_type": "code",
      "source": [
        "df = df.dropna(subset=['Tweet'])"
      ],
      "metadata": {
        "id": "wTt_K_eAkXOh"
      },
      "execution_count": 7,
      "outputs": []
    },
    {
      "cell_type": "markdown",
      "source": [
        "Смотрим распределение целевого признака."
      ],
      "metadata": {
        "id": "bLCzKAQG16fU"
      }
    },
    {
      "cell_type": "code",
      "source": [
        "counts = df['Suicide'].value_counts()\n",
        "\n",
        "explode = [0.05, 0.01] + [0] * (len(counts) - 3)\n",
        "plt.figure(figsize=(12, 8))\n",
        "plt.pie(\n",
        "  counts.values,\n",
        "  labels=counts.index,\n",
        "  autopct='%1.1f%%',\n",
        "  shadow=True,\n",
        "  explode=explode,\n",
        "  colors=['orange', 'red'] + ['C0'] * (len(counts) - 3),\n",
        "  wedgeprops={'lw': 1, 'ls': '--', 'edgecolor': 'k'},\n",
        ")\n",
        "plt.axis('equal')\n",
        "plt.title('Процентное распределение таргета')\n",
        "plt.show()"
      ],
      "metadata": {
        "colab": {
          "base_uri": "https://localhost:8080/",
          "height": 675
        },
        "id": "1QM4bDEtiKWE",
        "outputId": "2ac64e7a-44a3-46fa-a6db-2fe882a375ab"
      },
      "execution_count": 8,
      "outputs": [
        {
          "output_type": "display_data",
          "data": {
            "text/plain": [
              "<Figure size 1200x800 with 1 Axes>"
            ],
            "image/png": "[encoded data removed]"
          },
          "metadata": {}
        }
      ]
    },
    {
      "cell_type": "markdown",
      "source": [
        "В данных есть перекос в сторону \"несуицидальных\" твитов, которое надо будет учесть."
      ],
      "metadata": {
        "id": "rfyoR3tV1_ZY"
      }
    },
    {
      "cell_type": "markdown",
      "source": [
        "Закодируем целевой признак цифрами 0 и 1."
      ],
      "metadata": {
        "id": "1xEe2hbf2n5c"
      }
    },
    {
      "cell_type": "code",
      "source": [
        "df[\"Suicide\"] = df[\"Suicide\"].map({\"Not Suicide post\": 0, \"Potential Suicide post \": 1})"
      ],
      "metadata": {
        "id": "a6Ju3adOiWv2"
      },
      "execution_count": 9,
      "outputs": []
    },
    {
      "cell_type": "markdown",
      "source": [
        "## Выводы по разделу.\n",
        "\n",
        "- Требуемые библиотеки и данные загружены.\n",
        "- Информация о данных просмотрена.\n",
        "- Строки с пропуска удалены.\n",
        "- Обнаружен дисбаланс целевого класса."
      ],
      "metadata": {
        "id": "tKQdI9HXP6dR"
      }
    },
    {
      "cell_type": "markdown",
      "source": [
        "# Тренировочная выборка."
      ],
      "metadata": {
        "id": "RapUJB_q2dI-"
      }
    },
    {
      "cell_type": "markdown",
      "source": [
        "Обучим на тренировочных данных и оценим при помощи кросс-валидации CatBoost дважды: первый раз в модель придут сырые данные, во второй же мы вручную очистим тексты и векторизуем их. Результаты качества моделей сравним, и на тестовых данных предсказание будет делать уже лучшая из них."
      ],
      "metadata": {
        "id": "Iu72nYkjQKZI"
      }
    },
    {
      "cell_type": "markdown",
      "source": [
        "## CatBoost без предобработки текстовых данных."
      ],
      "metadata": {
        "id": "hdk-PmZM-k2-"
      }
    },
    {
      "cell_type": "markdown",
      "source": [
        "Разделим данные на тренировочную и тестовую выборки."
      ],
      "metadata": {
        "id": "9OiH02mb2YUB"
      }
    },
    {
      "cell_type": "code",
      "source": [
        "target = df[\"Suicide\"]\n",
        "features = df.drop([\"Suicide\"], axis=1)\n",
        "\n",
        "features_train, features_test, target_train, target_test = train_test_split(\n",
        "    features,\n",
        "    target,\n",
        "    test_size=0.2,\n",
        "    random_state=RND_STATE,\n",
        "    stratify=target,\n",
        "    shuffle=True,\n",
        ")"
      ],
      "metadata": {
        "id": "Cl_cQ0xXqlor"
      },
      "execution_count": 10,
      "outputs": []
    },
    {
      "cell_type": "markdown",
      "source": [
        "Смотрим размеры выборок."
      ],
      "metadata": {
        "id": "I-dNoCaB2vgX"
      }
    },
    {
      "cell_type": "code",
      "source": [
        "features_train.shape, target_train.shape, features_test.shape, target_test.shape"
      ],
      "metadata": {
        "colab": {
          "base_uri": "https://localhost:8080/"
        },
        "id": "IjAgIvPuqllz",
        "outputId": "8da64df5-b6f7-4446-9697-be800e25d33c"
      },
      "execution_count": 11,
      "outputs": [
        {
          "output_type": "execute_result",
          "data": {
            "text/plain": [
              "((1428, 1), (1428,), (357, 1), (357,))"
            ]
          },
          "metadata": {},
          "execution_count": 11
        }
      ]
    },
    {
      "cell_type": "markdown",
      "source": [
        "Создаём объект класса Pool для обучения на неём CatBoost."
      ],
      "metadata": {
        "id": "9p3Y8Sua2zOZ"
      }
    },
    {
      "cell_type": "code",
      "source": [
        "pool_train = Pool(\n",
        "    data=features_train,\n",
        "    label=target_train,\n",
        "    text_features=[0],\n",
        "    feature_names=['Tweet']\n",
        ")"
      ],
      "metadata": {
        "id": "IYd0F1OmxjmT"
      },
      "execution_count": 12,
      "outputs": []
    },
    {
      "cell_type": "markdown",
      "source": [
        "Обучаем CatBoost на тренировочной выборке с применением кросс-валдидации, получаем значение метрики."
      ],
      "metadata": {
        "id": "ePc0wjCV-NSV"
      }
    },
    {
      "cell_type": "code",
      "source": [
        "model = CatBoostClassifier(\n",
        "    auto_class_weights=\"Balanced\", random_seed=RND_STATE, task_type=\"GPU\"\n",
        ")\n",
        "\n",
        "params = {\n",
        "    \"iterations\": 100,\n",
        "    \"learning_rate\": 0.1,\n",
        "    \"depth\": 6,\n",
        "    \"loss_function\": \"Logloss\",\n",
        "    \"verbose\": False,\n",
        "    \"custom_loss\": \"F1\",\n",
        "    \"metric_period\": 1,\n",
        "}\n",
        "\n",
        "cv_data = cv(pool_train, params=params, fold_count=5)\n",
        "\n",
        "f1_train = cv_data[\"test-F1-mean\"].mean()\n",
        "\n",
        "print(\"Среднее значение метрики F1 на кросс-валидации:\", f1_train)"
      ],
      "metadata": {
        "colab": {
          "base_uri": "https://localhost:8080/"
        },
        "id": "U2GC2Yp5SA3b",
        "outputId": "07e0fc4d-a002-49b2-8c72-6eff9aeaaf62"
      },
      "execution_count": 13,
      "outputs": [
        {
          "output_type": "stream",
          "name": "stdout",
          "text": [
            "Training on fold [0/5]\n",
            "\n",
            "bestTest = 0.2752864458\n",
            "bestIteration = 98\n",
            "\n",
            "Training on fold [1/5]\n",
            "\n",
            "bestTest = 0.3069929559\n",
            "bestIteration = 95\n",
            "\n",
            "Training on fold [2/5]\n",
            "\n",
            "bestTest = 0.3574634045\n",
            "bestIteration = 99\n",
            "\n",
            "Training on fold [3/5]\n",
            "\n",
            "bestTest = 0.2657273301\n",
            "bestIteration = 96\n",
            "\n",
            "Training on fold [4/5]\n",
            "\n",
            "bestTest = 0.2827087403\n",
            "bestIteration = 99\n",
            "\n",
            "Среднее значение метрики F1 на кросс-валидации: 0.8113356039564207\n"
          ]
        }
      ]
    },
    {
      "cell_type": "markdown",
      "source": [
        "Значение метрики выглядит уже неплохо, но посмотрим, что будет, если мы выполним в ручную предобработку текстовых данных до того, как отправлять их в модель."
      ],
      "metadata": {
        "id": "ilqDFyG--VFq"
      }
    },
    {
      "cell_type": "markdown",
      "source": [
        "## CatBoost с предобработкой текстовых данных."
      ],
      "metadata": {
        "id": "sZ6oQMzP-gkq"
      }
    },
    {
      "cell_type": "markdown",
      "source": [
        "Создаём корпус постов."
      ],
      "metadata": {
        "id": "mHz0nJMfLSzI"
      }
    },
    {
      "cell_type": "code",
      "source": [
        "corpus = df['Tweet']"
      ],
      "metadata": {
        "id": "PYHgHGGjljRu"
      },
      "execution_count": 14,
      "outputs": []
    },
    {
      "cell_type": "markdown",
      "source": [
        "Создаём функции для лемматизации и очистки текстов."
      ],
      "metadata": {
        "id": "c1lPmwnMLerG"
      }
    },
    {
      "cell_type": "code",
      "source": [
        "def clear_text(text):\n",
        "    text = text.lower()\n",
        "    text = re.sub(r\"[^a-zA-Z]\", \" \", text)\n",
        "    text = text.split()\n",
        "    text = \" \".join(text)\n",
        "    return text\n",
        "\n",
        "\n",
        "def get_wordnet_pos(word):\n",
        "    tag = nltk.pos_tag([word])[0][1][0].upper()\n",
        "    tag_dict = {\n",
        "        \"J\": wordnet.ADJ,\n",
        "        \"N\": wordnet.NOUN,\n",
        "        \"V\": wordnet.VERB,\n",
        "        \"R\": wordnet.ADV,\n",
        "    }\n",
        "    return tag_dict.get(tag, wordnet.NOUN)\n",
        "\n",
        "\n",
        "def lemmatize_text(text):\n",
        "    lemmatizer = WordNetLemmatizer()\n",
        "    tokens = word_tokenize(text)\n",
        "    lemmatized_tokens = [\n",
        "        lemmatizer.lemmatize(token, get_wordnet_pos(token)) for token in tokens\n",
        "    ]\n",
        "    lemmatized_text = \" \".join(lemmatized_tokens)\n",
        "    return lemmatized_text"
      ],
      "metadata": {
        "id": "yWAByXEw09-3"
      },
      "execution_count": 15,
      "outputs": []
    },
    {
      "cell_type": "markdown",
      "source": [
        "Применяем функции на корпусе."
      ],
      "metadata": {
        "id": "fNpY1rX8LrvP"
      }
    },
    {
      "cell_type": "code",
      "source": [
        "tqdm.pandas()\n",
        "corpus = corpus.progress_apply(clear_text)\n",
        "corpus = corpus.progress_apply(lemmatize_text)"
      ],
      "metadata": {
        "colab": {
          "base_uri": "https://localhost:8080/"
        },
        "id": "3cFuFwkN1OBi",
        "outputId": "1618b3a6-ecfa-45de-f4b8-f43edcacc3e3"
      },
      "execution_count": 16,
      "outputs": [
        {
          "output_type": "stream",
          "name": "stderr",
          "text": [
            "100%|██████████| 1785/1785 [00:00<00:00, 44815.50it/s]\n",
            "100%|██████████| 1785/1785 [00:06<00:00, 283.49it/s]\n"
          ]
        }
      ]
    },
    {
      "cell_type": "markdown",
      "source": [
        "Присоединяем очищенные тексты к датафрейму."
      ],
      "metadata": {
        "id": "aGLwRxckRrgv"
      }
    },
    {
      "cell_type": "code",
      "source": [
        "df['Cleared Tweet'] = corpus"
      ],
      "metadata": {
        "id": "O1D9s0s51QUY"
      },
      "execution_count": 17,
      "outputs": []
    },
    {
      "cell_type": "markdown",
      "source": [
        "Смотрим, что получилось."
      ],
      "metadata": {
        "id": "GjGHk3iuRvr6"
      }
    },
    {
      "cell_type": "code",
      "source": [
        "df.sample(10)"
      ],
      "metadata": {
        "colab": {
          "base_uri": "https://localhost:8080/",
          "height": 363
        },
        "id": "hA2H8Cgu1ju7",
        "outputId": "e34809fd-0ad0-425d-9bce-c0bdfd3a82c1"
      },
      "execution_count": 18,
      "outputs": [
        {
          "output_type": "execute_result",
          "data": {
            "text/plain": [
              "                                                  Tweet  Suicide  \\\n",
              "379              @o_crunk Keep it up, you do good work!        0   \n",
              "1724  @DerrenLitten What is the software on the midd...        0   \n",
              "1610                                 Working like crazy        0   \n",
              "260   I wanna kill myself like not literally but men...        1   \n",
              "725                       is off to Dundrum with Martin        0   \n",
              "64    @noi27 Easy way is to go to MBK and get it hac...        0   \n",
              "775   my life has no purpose i am broke lonely and m...        1   \n",
              "1430  LOLOLOLOLOL I HATE HOW I TRUST PEOPLE WITH UGL...        1   \n",
              "1579  RT @WayneRooney: Congratulations to Joe Cole o...        0   \n",
              "650   @healthwarrior A watched pot never boiled, mat...        0   \n",
              "\n",
              "                                          Cleared Tweet  \n",
              "379                 o crunk keep it up you do good work  \n",
              "1724  derrenlitten what be the software on the middl...  \n",
              "1610                                    work like crazy  \n",
              "260   i wan na kill myself like not literally but me...  \n",
              "725                       be off to dundrum with martin  \n",
              "64    noi easy way be to go to mbk and get it hack c...  \n",
              "775   my life have no purpose i be broke lonely and ...  \n",
              "1430  lololololol i hate how i trust people with ugl...  \n",
              "1579  rt waynerooney congratulation to joe cole on a...  \n",
              "650   healthwarrior a watch pot never boil mate dist...  "
            ],
            "text/html": [
              "\n",
              "  <div id=\"df-a669dc24-b2a9-4fdf-8c3f-7892cb15950c\" class=\"colab-df-container\">\n",
              "    <div>\n",
              "<style scoped>\n",
              "    .dataframe tbody tr th:only-of-type {\n",
              "        vertical-align: middle;\n",
              "    }\n",
              "\n",
              "    .dataframe tbody tr th {\n",
              "        vertical-align: top;\n",
              "    }\n",
              "\n",
              "    .dataframe thead th {\n",
              "        text-align: right;\n",
              "    }\n",
              "</style>\n",
              "<table border=\"1\" class=\"dataframe\">\n",
              "  <thead>\n",
              "    <tr style=\"text-align: right;\">\n",
              "      <th></th>\n",
              "      <th>Tweet</th>\n",
              "      <th>Suicide</th>\n",
              "      <th>Cleared Tweet</th>\n",
              "    </tr>\n",
              "  </thead>\n",
              "  <tbody>\n",
              "    <tr>\n",
              "      <th>379</th>\n",
              "      <td>@o_crunk Keep it up, you do good work!</td>\n",
              "      <td>0</td>\n",
              "      <td>o crunk keep it up you do good work</td>\n",
              "    </tr>\n",
              "    <tr>\n",
              "      <th>1724</th>\n",
              "      <td>@DerrenLitten What is the software on the midd...</td>\n",
              "      <td>0</td>\n",
              "      <td>derrenlitten what be the software on the middl...</td>\n",
              "    </tr>\n",
              "    <tr>\n",
              "      <th>1610</th>\n",
              "      <td>Working like crazy</td>\n",
              "      <td>0</td>\n",
              "      <td>work like crazy</td>\n",
              "    </tr>\n",
              "    <tr>\n",
              "      <th>260</th>\n",
              "      <td>I wanna kill myself like not literally but men...</td>\n",
              "      <td>1</td>\n",
              "      <td>i wan na kill myself like not literally but me...</td>\n",
              "    </tr>\n",
              "    <tr>\n",
              "      <th>725</th>\n",
              "      <td>is off to Dundrum with Martin</td>\n",
              "      <td>0</td>\n",
              "      <td>be off to dundrum with martin</td>\n",
              "    </tr>\n",
              "    <tr>\n",
              "      <th>64</th>\n",
              "      <td>@noi27 Easy way is to go to MBK and get it hac...</td>\n",
              "      <td>0</td>\n",
              "      <td>noi easy way be to go to mbk and get it hack c...</td>\n",
              "    </tr>\n",
              "    <tr>\n",
              "      <th>775</th>\n",
              "      <td>my life has no purpose i am broke lonely and m...</td>\n",
              "      <td>1</td>\n",
              "      <td>my life have no purpose i be broke lonely and ...</td>\n",
              "    </tr>\n",
              "    <tr>\n",
              "      <th>1430</th>\n",
              "      <td>LOLOLOLOLOL I HATE HOW I TRUST PEOPLE WITH UGL...</td>\n",
              "      <td>1</td>\n",
              "      <td>lololololol i hate how i trust people with ugl...</td>\n",
              "    </tr>\n",
              "    <tr>\n",
              "      <th>1579</th>\n",
              "      <td>RT @WayneRooney: Congratulations to Joe Cole o...</td>\n",
              "      <td>0</td>\n",
              "      <td>rt waynerooney congratulation to joe cole on a...</td>\n",
              "    </tr>\n",
              "    <tr>\n",
              "      <th>650</th>\n",
              "      <td>@healthwarrior A watched pot never boiled, mat...</td>\n",
              "      <td>0</td>\n",
              "      <td>healthwarrior a watch pot never boil mate dist...</td>\n",
              "    </tr>\n",
              "  </tbody>\n",
              "</table>\n",
              "</div>\n",
              "    <div class=\"colab-df-buttons\">\n",
              "\n",
              "  <div class=\"colab-df-container\">\n",
              "    <button class=\"colab-df-convert\" onclick=\"convertToInteractive('df-a669dc24-b2a9-4fdf-8c3f-7892cb15950c')\"\n",
              "            title=\"Convert this dataframe to an interactive table.\"\n",
              "            style=\"display:none;\">\n",
              "\n",
              "  <svg xmlns=\"http://www.w3.org/2000/svg\" height=\"24px\" viewBox=\"0 -960 960 960\">\n",
              "    <path d=\"M120-120v-720h720v720H120Zm60-500h600v-160H180v160Zm220 220h160v-160H400v160Zm0 220h160v-160H400v160ZM180-400h160v-160H180v160Zm440 0h160v-160H620v160ZM180-180h160v-160H180v160Zm440 0h160v-160H620v160Z\"/>\n",
              "  </svg>\n",
              "    </button>\n",
              "\n",
              "  <style>\n",
              "    .colab-df-container {\n",
              "      display:flex;\n",
              "      gap: 12px;\n",
              "    }\n",
              "\n",
              "    .colab-df-convert {\n",
              "      background-color: #E8F0FE;\n",
              "      border: none;\n",
              "      border-radius: 50%;\n",
              "      cursor: pointer;\n",
              "      display: none;\n",
              "      fill: #1967D2;\n",
              "      height: 32px;\n",
              "      padding: 0 0 0 0;\n",
              "      width: 32px;\n",
              "    }\n",
              "\n",
              "    .colab-df-convert:hover {\n",
              "      background-color: #E2EBFA;\n",
              "      box-shadow: 0px 1px 2px rgba(60, 64, 67, 0.3), 0px 1px 3px 1px rgba(60, 64, 67, 0.15);\n",
              "      fill: #174EA6;\n",
              "    }\n",
              "\n",
              "    .colab-df-buttons div {\n",
              "      margin-bottom: 4px;\n",
              "    }\n",
              "\n",
              "    [theme=dark] .colab-df-convert {\n",
              "      background-color: #3B4455;\n",
              "      fill: #D2E3FC;\n",
              "    }\n",
              "\n",
              "    [theme=dark] .colab-df-convert:hover {\n",
              "      background-color: #434B5C;\n",
              "      box-shadow: 0px 1px 3px 1px rgba(0, 0, 0, 0.15);\n",
              "      filter: drop-shadow(0px 1px 2px rgba(0, 0, 0, 0.3));\n",
              "      fill: #FFFFFF;\n",
              "    }\n",
              "  </style>\n",
              "\n",
              "    <script>\n",
              "      const buttonEl =\n",
              "        document.querySelector('#df-a669dc24-b2a9-4fdf-8c3f-7892cb15950c button.colab-df-convert');\n",
              "      buttonEl.style.display =\n",
              "        google.colab.kernel.accessAllowed ? 'block' : 'none';\n",
              "\n",
              "      async function convertToInteractive(key) {\n",
              "        const element = document.querySelector('#df-a669dc24-b2a9-4fdf-8c3f-7892cb15950c');\n",
              "        const dataTable =\n",
              "          await google.colab.kernel.invokeFunction('convertToInteractive',\n",
              "                                                    [key], {});\n",
              "        if (!dataTable) return;\n",
              "\n",
              "        const docLinkHtml = 'Like what you see? Visit the ' +\n",
              "          '<a target=\"_blank\" href=https://colab.research.google.com/notebooks/data_table.ipynb>data table notebook</a>'\n",
              "          + ' to learn more about interactive tables.';\n",
              "        element.innerHTML = '';\n",
              "        dataTable['output_type'] = 'display_data';\n",
              "        await google.colab.output.renderOutput(dataTable, element);\n",
              "        const docLink = document.createElement('div');\n",
              "        docLink.innerHTML = docLinkHtml;\n",
              "        element.appendChild(docLink);\n",
              "      }\n",
              "    </script>\n",
              "  </div>\n",
              "\n",
              "\n",
              "<div id=\"df-41c4076e-9f90-4b2e-8b84-2acd9889fd72\">\n",
              "  <button class=\"colab-df-quickchart\" onclick=\"quickchart('df-41c4076e-9f90-4b2e-8b84-2acd9889fd72')\"\n",
              "            title=\"Suggest charts\"\n",
              "            style=\"display:none;\">\n",
              "\n",
              "<svg xmlns=\"http://www.w3.org/2000/svg\" height=\"24px\"viewBox=\"0 0 24 24\"\n",
              "     width=\"24px\">\n",
              "    <g>\n",
              "        <path d=\"M19 3H5c-1.1 0-2 .9-2 2v14c0 1.1.9 2 2 2h14c1.1 0 2-.9 2-2V5c0-1.1-.9-2-2-2zM9 17H7v-7h2v7zm4 0h-2V7h2v10zm4 0h-2v-4h2v4z\"/>\n",
              "    </g>\n",
              "</svg>\n",
              "  </button>\n",
              "\n",
              "<style>\n",
              "  .colab-df-quickchart {\n",
              "      --bg-color: #E8F0FE;\n",
              "      --fill-color: #1967D2;\n",
              "      --hover-bg-color: #E2EBFA;\n",
              "      --hover-fill-color: #174EA6;\n",
              "      --disabled-fill-color: #AAA;\n",
              "      --disabled-bg-color: #DDD;\n",
              "  }\n",
              "\n",
              "  [theme=dark] .colab-df-quickchart {\n",
              "      --bg-color: #3B4455;\n",
              "      --fill-color: #D2E3FC;\n",
              "      --hover-bg-color: #434B5C;\n",
              "      --hover-fill-color: #FFFFFF;\n",
              "      --disabled-bg-color: #3B4455;\n",
              "      --disabled-fill-color: #666;\n",
              "  }\n",
              "\n",
              "  .colab-df-quickchart {\n",
              "    background-color: var(--bg-color);\n",
              "    border: none;\n",
              "    border-radius: 50%;\n",
              "    cursor: pointer;\n",
              "    display: none;\n",
              "    fill: var(--fill-color);\n",
              "    height: 32px;\n",
              "    padding: 0;\n",
              "    width: 32px;\n",
              "  }\n",
              "\n",
              "  .colab-df-quickchart:hover {\n",
              "    background-color: var(--hover-bg-color);\n",
              "    box-shadow: 0 1px 2px rgba(60, 64, 67, 0.3), 0 1px 3px 1px rgba(60, 64, 67, 0.15);\n",
              "    fill: var(--button-hover-fill-color);\n",
              "  }\n",
              "\n",
              "  .colab-df-quickchart-complete:disabled,\n",
              "  .colab-df-quickchart-complete:disabled:hover {\n",
              "    background-color: var(--disabled-bg-color);\n",
              "    fill: var(--disabled-fill-color);\n",
              "    box-shadow: none;\n",
              "  }\n",
              "\n",
              "  .colab-df-spinner {\n",
              "    border: 2px solid var(--fill-color);\n",
              "    border-color: transparent;\n",
              "    border-bottom-color: var(--fill-color);\n",
              "    animation:\n",
              "      spin 1s steps(1) infinite;\n",
              "  }\n",
              "\n",
              "  @keyframes spin {\n",
              "    0% {\n",
              "      border-color: transparent;\n",
              "      border-bottom-color: var(--fill-color);\n",
              "      border-left-color: var(--fill-color);\n",
              "    }\n",
              "    20% {\n",
              "      border-color: transparent;\n",
              "      border-left-color: var(--fill-color);\n",
              "      border-top-color: var(--fill-color);\n",
              "    }\n",
              "    30% {\n",
              "      border-color: transparent;\n",
              "      border-left-color: var(--fill-color);\n",
              "      border-top-color: var(--fill-color);\n",
              "      border-right-color: var(--fill-color);\n",
              "    }\n",
              "    40% {\n",
              "      border-color: transparent;\n",
              "      border-right-color: var(--fill-color);\n",
              "      border-top-color: var(--fill-color);\n",
              "    }\n",
              "    60% {\n",
              "      border-color: transparent;\n",
              "      border-right-color: var(--fill-color);\n",
              "    }\n",
              "    80% {\n",
              "      border-color: transparent;\n",
              "      border-right-color: var(--fill-color);\n",
              "      border-bottom-color: var(--fill-color);\n",
              "    }\n",
              "    90% {\n",
              "      border-color: transparent;\n",
              "      border-bottom-color: var(--fill-color);\n",
              "    }\n",
              "  }\n",
              "</style>\n",
              "\n",
              "  <script>\n",
              "    async function quickchart(key) {\n",
              "      const quickchartButtonEl =\n",
              "        document.querySelector('#' + key + ' button');\n",
              "      quickchartButtonEl.disabled = true;  // To prevent multiple clicks.\n",
              "      quickchartButtonEl.classList.add('colab-df-spinner');\n",
              "      try {\n",
              "        const charts = await google.colab.kernel.invokeFunction(\n",
              "            'suggestCharts', [key], {});\n",
              "      } catch (error) {\n",
              "        console.error('Error during call to suggestCharts:', error);\n",
              "      }\n",
              "      quickchartButtonEl.classList.remove('colab-df-spinner');\n",
              "      quickchartButtonEl.classList.add('colab-df-quickchart-complete');\n",
              "    }\n",
              "    (() => {\n",
              "      let quickchartButtonEl =\n",
              "        document.querySelector('#df-41c4076e-9f90-4b2e-8b84-2acd9889fd72 button');\n",
              "      quickchartButtonEl.style.display =\n",
              "        google.colab.kernel.accessAllowed ? 'block' : 'none';\n",
              "    })();\n",
              "  </script>\n",
              "</div>\n",
              "    </div>\n",
              "  </div>\n"
            ]
          },
          "metadata": {},
          "execution_count": 18
        }
      ]
    },
    {
      "cell_type": "code",
      "source": [
        "target = df[\"Suicide\"]\n",
        "features = df[\"Cleared Tweet\"]\n",
        "features_train, features_test, target_train, target_test = train_test_split(\n",
        "    features,\n",
        "    target,\n",
        "    test_size=0.2,\n",
        "    random_state=RND_STATE,\n",
        "    stratify=target,\n",
        "    shuffle=True,\n",
        ")"
      ],
      "metadata": {
        "id": "Kd9ZZy4L1mXR"
      },
      "execution_count": 19,
      "outputs": []
    },
    {
      "cell_type": "markdown",
      "source": [
        "Выполянем векторизацию текстов."
      ],
      "metadata": {
        "id": "M51wLnoQRI6e"
      }
    },
    {
      "cell_type": "code",
      "source": [
        "stop_words = set(stopwords.words('english'))\n",
        "\n",
        "tfidf_vectorizer = TfidfVectorizer(stop_words='english')\n",
        "\n",
        "features_train_tfidf = tfidf_vectorizer.fit_transform(features_train)\n",
        "\n",
        "features_test_tfidf = tfidf_vectorizer.transform(features_test)"
      ],
      "metadata": {
        "id": "kLlZWare1v1Q"
      },
      "execution_count": 20,
      "outputs": []
    },
    {
      "cell_type": "markdown",
      "source": [
        "Смотрим размеры выборок."
      ],
      "metadata": {
        "id": "Mwn0WVPYQ6SN"
      }
    },
    {
      "cell_type": "code",
      "source": [
        "print(f'Размер тренировочной выборки: {features_train_tfidf.shape}')\n",
        "print(f'Размер тестовой выборки: {features_test_tfidf.shape}')"
      ],
      "metadata": {
        "id": "uk2W-howQ8h0",
        "colab": {
          "base_uri": "https://localhost:8080/"
        },
        "outputId": "37b5af6e-98df-4508-f6ca-81578ab99348"
      },
      "execution_count": 21,
      "outputs": [
        {
          "output_type": "stream",
          "name": "stdout",
          "text": [
            "Размер тренировочной выборки: (1428, 4549)\n",
            "Размер тестовой выборки: (357, 4549)\n"
          ]
        }
      ]
    },
    {
      "cell_type": "markdown",
      "source": [
        "Создаём объекты Pool."
      ],
      "metadata": {
        "id": "Un3ncvS8Q-2M"
      }
    },
    {
      "cell_type": "code",
      "source": [
        "pool_train_tfidf = Pool(\n",
        "    data=features_train_tfidf,\n",
        "    label=target_train)\n",
        "\n",
        "pool_test_tfidf = Pool(\n",
        "    data=features_test_tfidf,\n",
        "    label=target_test)"
      ],
      "metadata": {
        "id": "QH-gVy0J608e"
      },
      "execution_count": 22,
      "outputs": []
    },
    {
      "cell_type": "code",
      "source": [
        "model = CatBoostClassifier(\n",
        "    auto_class_weights='Balanced',\n",
        "    random_seed=RND_STATE,\n",
        "    task_type=\"GPU\"\n",
        ")\n",
        "\n",
        "\n",
        "params = {\n",
        "    'iterations': 100,\n",
        "    'learning_rate': 0.1,\n",
        "    'depth': 6,\n",
        "    'loss_function': 'Logloss',\n",
        "    'verbose': False,\n",
        "    'custom_loss': 'F1',\n",
        "    'metric_period': 1\n",
        "}\n",
        "\n",
        "cv_data_pre = cv(pool_train_tfidf, params=params, fold_count=5)\n",
        "\n",
        "f1_train_pre =  cv_data_pre['test-F1-mean'].mean()\n",
        "\n",
        "print('Среднее значение метрики F1 на тесте:', f1_train_pre)"
      ],
      "metadata": {
        "colab": {
          "base_uri": "https://localhost:8080/"
        },
        "id": "J4L2Uf_Q3TRl",
        "outputId": "acedb35a-855f-49c2-955b-749dede805a3"
      },
      "execution_count": 23,
      "outputs": [
        {
          "output_type": "stream",
          "name": "stdout",
          "text": [
            "Training on fold [0/5]\n",
            "\n",
            "bestTest = 0.2266579135\n",
            "bestIteration = 99\n",
            "\n",
            "Training on fold [1/5]\n",
            "\n",
            "bestTest = 0.2451896575\n",
            "bestIteration = 95\n",
            "\n",
            "Training on fold [2/5]\n",
            "\n",
            "bestTest = 0.2447973146\n",
            "bestIteration = 99\n",
            "\n",
            "Training on fold [3/5]\n",
            "\n",
            "bestTest = 0.2432216857\n",
            "bestIteration = 99\n",
            "\n",
            "Training on fold [4/5]\n",
            "\n",
            "bestTest = 0.2187381733\n",
            "bestIteration = 98\n",
            "\n",
            "Среднее значение метрики F1 на тесте: 0.8507181651537734\n"
          ]
        }
      ]
    },
    {
      "cell_type": "code",
      "source": [
        "fig, ax = plt.subplots(figsize=(12, 8))\n",
        "\n",
        "bar_width = 0.35\n",
        "\n",
        "rects1 = ax.bar(\n",
        "    1, f1_train, bar_width, label=\"без предобработки\", color=\"b\", alpha=0.5\n",
        ")\n",
        "rects2 = ax.bar(\n",
        "    1 + bar_width,\n",
        "    f1_train_pre,\n",
        "    bar_width,\n",
        "    label=\"c предобработкой\", color=\"r\", alpha=0.5\n",
        ")\n",
        "\n",
        "ax.set_xticks([])\n",
        "\n",
        "ax.set_xlabel(\"Модели\")\n",
        "ax.set_ylabel(\"Значение метрики F1\")\n",
        "ax.set_title(\n",
        "    \"Сравнение значения метрики F1 для CatBoost с предобработкой текстовых данных и без неё\"\n",
        ")\n",
        "ax.set_xticks([])\n",
        "ax.legend()\n",
        "\n",
        "plt.show()\n"
      ],
      "metadata": {
        "colab": {
          "base_uri": "https://localhost:8080/",
          "height": 695
        },
        "id": "kUzrngFcHvFo",
        "outputId": "6b11ce02-7da5-4d15-bc08-41c004b65bad"
      },
      "execution_count": 24,
      "outputs": [
        {
          "output_type": "display_data",
          "data": {
            "text/plain": [
              "<Figure size 1200x800 with 1 Axes>"
            ],
            "image/png": "[encoded data removed]"
          },
          "metadata": {}
        }
      ]
    },
    {
      "cell_type": "markdown",
      "source": [
        "Ручная предобработка текстовых данных помогла увеличить значение метрики."
      ],
      "metadata": {
        "id": "sSAMpZkCR6nr"
      }
    },
    {
      "cell_type": "markdown",
      "source": [
        "## Выводы по разделу.\n",
        "- CatBoost на сырых текстовых данных дал значение метрики F1 0.81, на предобработанных - 0.85.\n",
        "- Предсказание модели будем получать также на предобработанных данных."
      ],
      "metadata": {
        "id": "5hXPSXteR_fr"
      }
    },
    {
      "cell_type": "markdown",
      "source": [
        "# Тестовая выборка."
      ],
      "metadata": {
        "id": "MjQCeWx3ADfL"
      }
    },
    {
      "cell_type": "markdown",
      "source": [
        "Обучаем модель на тренировочной выборке, получаем предсказание на тестовой."
      ],
      "metadata": {
        "id": "mySAnZyCEnhh"
      }
    },
    {
      "cell_type": "code",
      "source": [
        "model.fit(features_train_tfidf, target_train, verbose=0)\n",
        "predictions = model.predict(features_test_tfidf)"
      ],
      "metadata": {
        "id": "RCelju-j3g4u"
      },
      "execution_count": 25,
      "outputs": []
    },
    {
      "cell_type": "markdown",
      "source": [
        "Считаем значение метрики."
      ],
      "metadata": {
        "id": "E-7M2l4wFSTF"
      }
    },
    {
      "cell_type": "code",
      "source": [
        "f1_test = f1_score(target_test, predictions)\n",
        "f1_test"
      ],
      "metadata": {
        "colab": {
          "base_uri": "https://localhost:8080/"
        },
        "id": "eFsmz8dUBSQ5",
        "outputId": "d4742eba-7c76-46eb-9544-1b4e371aad13"
      },
      "execution_count": 26,
      "outputs": [
        {
          "output_type": "execute_result",
          "data": {
            "text/plain": [
              "0.873134328358209"
            ]
          },
          "metadata": {},
          "execution_count": 26
        }
      ]
    },
    {
      "cell_type": "markdown",
      "source": [
        "Метрика немного подросла по сравнению с тренировочной выборкой."
      ],
      "metadata": {
        "id": "j0kMNSczTJJN"
      }
    },
    {
      "cell_type": "markdown",
      "source": [
        "Смотрим матрицу ошибок."
      ],
      "metadata": {
        "id": "PcxBF_ZBFXiF"
      }
    },
    {
      "cell_type": "code",
      "source": [
        "cm = confusion_matrix(target_test, predictions)\n",
        "\n",
        "plt.figure(figsize=(12, 8))\n",
        "sns.heatmap(cm, annot=True,  fmt='d', cmap='Blues')\n",
        "plt.xlabel('Предсказанные значения')\n",
        "plt.ylabel('Истинные значения')\n",
        "\n",
        "plt.show()"
      ],
      "metadata": {
        "id": "up0d8_icCcCv",
        "outputId": "9cd9367d-ad19-4b5f-e71d-a1d132f4cbe0",
        "colab": {
          "base_uri": "https://localhost:8080/",
          "height": 696
        }
      },
      "execution_count": 27,
      "outputs": [
        {
          "output_type": "display_data",
          "data": {
            "text/plain": [
              "<Figure size 1200x800 with 2 Axes>"
            ],
            "image/png": "[encoded data removed]"
          },
          "metadata": {}
        }
      ]
    },
    {
      "cell_type": "markdown",
      "source": [
        "## Выводы по разделу.\n",
        "- Предсказание модели на тестовой выборке получено.\n",
        "- Значение метрики F1 0.87.\n",
        "- Моделью верно распознаны 117 из 132 (88%) \"суицидальных\" твитов 206 из 215 (91%) \"несуицидальных\"."
      ],
      "metadata": {
        "id": "K3cKw4OmSEX_"
      }
    },
    {
      "cell_type": "markdown",
      "source": [
        "# Выводы по проекту."
      ],
      "metadata": {
        "id": "vQOJrhVZSIOp"
      }
    },
    {
      "cell_type": "markdown",
      "source": [
        "По итогу проекта могу сказать, что даже при быстрой классификации на сырых данных с помощью text_features модель CatBoost обеспечила адекватное значение метрики, которое можно использовать в качестве бейзлайна при попытки достижения максимально точной классификации. Очистка и векторизация текстов перед отправлением их в модель помогли увеличить значение метрики, однако в случае решения вопроса на реальных данных целесообразным будет попытка применения нейросетей, которые в теории должны ещё больше повысить точность классификации в данном вопросе."
      ],
      "metadata": {
        "id": "mKCuGN1ZUhW-"
      }
    },
    {
      "cell_type": "code",
      "source": [],
      "metadata": {
        "id": "YDgvr0q6SJqo"
      },
      "execution_count": 27,
      "outputs": []
    }
  ]
}